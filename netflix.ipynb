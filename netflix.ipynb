{
 "cells": [
  {
   "cell_type": "code",
   "execution_count": 1,
   "metadata": {},
   "outputs": [
    {
     "data": {
      "text/html": [
       "<div>\n",
       "<style scoped>\n",
       "    .dataframe tbody tr th:only-of-type {\n",
       "        vertical-align: middle;\n",
       "    }\n",
       "\n",
       "    .dataframe tbody tr th {\n",
       "        vertical-align: top;\n",
       "    }\n",
       "\n",
       "    .dataframe thead th {\n",
       "        text-align: right;\n",
       "    }\n",
       "</style>\n",
       "<table border=\"1\" class=\"dataframe\">\n",
       "  <thead>\n",
       "    <tr style=\"text-align: right;\">\n",
       "      <th></th>\n",
       "      <th>Show Id</th>\n",
       "      <th>Title</th>\n",
       "      <th>Description</th>\n",
       "      <th>Director</th>\n",
       "      <th>Genres</th>\n",
       "      <th>Cast</th>\n",
       "      <th>Production Country</th>\n",
       "      <th>Release Date</th>\n",
       "      <th>Rating</th>\n",
       "      <th>Duration</th>\n",
       "      <th>Imdb Score</th>\n",
       "      <th>Content Type</th>\n",
       "      <th>Date Added</th>\n",
       "    </tr>\n",
       "  </thead>\n",
       "  <tbody>\n",
       "    <tr>\n",
       "      <th>0</th>\n",
       "      <td>cc1b6ed9-cf9e-4057-8303-34577fb54477</td>\n",
       "      <td>(Un)Well</td>\n",
       "      <td>This docuseries takes a deep dive into the luc...</td>\n",
       "      <td>NaN</td>\n",
       "      <td>Reality TV</td>\n",
       "      <td>NaN</td>\n",
       "      <td>United States</td>\n",
       "      <td>2020.0</td>\n",
       "      <td>TV-MA</td>\n",
       "      <td>1 Season</td>\n",
       "      <td>6.6/10</td>\n",
       "      <td>TV Show</td>\n",
       "      <td>NaN</td>\n",
       "    </tr>\n",
       "    <tr>\n",
       "      <th>1</th>\n",
       "      <td>e2ef4e91-fb25-42ab-b485-be8e3b23dedb</td>\n",
       "      <td>#Alive</td>\n",
       "      <td>As a grisly virus rampages a city, a lone man ...</td>\n",
       "      <td>Cho Il</td>\n",
       "      <td>Horror Movies, International Movies, Thrillers</td>\n",
       "      <td>Yoo Ah-in, Park Shin-hye</td>\n",
       "      <td>South Korea</td>\n",
       "      <td>2020.0</td>\n",
       "      <td>TV-MA</td>\n",
       "      <td>99 min</td>\n",
       "      <td>6.2/10</td>\n",
       "      <td>Movie</td>\n",
       "      <td>September 8, 2020</td>\n",
       "    </tr>\n",
       "  </tbody>\n",
       "</table>\n",
       "</div>"
      ],
      "text/plain": [
       "                                Show Id     Title   \n",
       "0  cc1b6ed9-cf9e-4057-8303-34577fb54477  (Un)Well  \\\n",
       "1  e2ef4e91-fb25-42ab-b485-be8e3b23dedb    #Alive   \n",
       "\n",
       "                                         Description Director   \n",
       "0  This docuseries takes a deep dive into the luc...      NaN  \\\n",
       "1  As a grisly virus rampages a city, a lone man ...   Cho Il   \n",
       "\n",
       "                                           Genres                      Cast   \n",
       "0                                      Reality TV                       NaN  \\\n",
       "1  Horror Movies, International Movies, Thrillers  Yoo Ah-in, Park Shin-hye   \n",
       "\n",
       "  Production Country  Release Date Rating  Duration Imdb Score Content Type   \n",
       "0      United States        2020.0  TV-MA  1 Season     6.6/10      TV Show  \\\n",
       "1        South Korea        2020.0  TV-MA    99 min     6.2/10        Movie   \n",
       "\n",
       "          Date Added  \n",
       "0                NaN  \n",
       "1  September 8, 2020  "
      ]
     },
     "execution_count": 1,
     "metadata": {},
     "output_type": "execute_result"
    }
   ],
   "source": [
    "import numpy as np\n",
    "import pandas as pd\n",
    "from sklearn.feature_extraction import text\n",
    "from sklearn.metrics.pairwise import cosine_similarity\n",
    "\n",
    "data = pd.read_csv(\"netflixData.csv\")\n",
    "data.head(2)"
   ]
  },
  {
   "cell_type": "code",
   "execution_count": 2,
   "metadata": {},
   "outputs": [
    {
     "data": {
      "text/html": [
       "<div>\n",
       "<style scoped>\n",
       "    .dataframe tbody tr th:only-of-type {\n",
       "        vertical-align: middle;\n",
       "    }\n",
       "\n",
       "    .dataframe tbody tr th {\n",
       "        vertical-align: top;\n",
       "    }\n",
       "\n",
       "    .dataframe thead th {\n",
       "        text-align: right;\n",
       "    }\n",
       "</style>\n",
       "<table border=\"1\" class=\"dataframe\">\n",
       "  <thead>\n",
       "    <tr style=\"text-align: right;\">\n",
       "      <th></th>\n",
       "      <th>Title</th>\n",
       "      <th>Description</th>\n",
       "      <th>Content Type</th>\n",
       "      <th>Genres</th>\n",
       "    </tr>\n",
       "  </thead>\n",
       "  <tbody>\n",
       "    <tr>\n",
       "      <th>1</th>\n",
       "      <td>#Alive</td>\n",
       "      <td>As a grisly virus rampages a city, a lone man ...</td>\n",
       "      <td>Movie</td>\n",
       "      <td>Horror Movies, International Movies, Thrillers</td>\n",
       "    </tr>\n",
       "    <tr>\n",
       "      <th>2</th>\n",
       "      <td>#AnneFrank - Parallel Stories</td>\n",
       "      <td>Through her diary, Anne Frank's story is retol...</td>\n",
       "      <td>Movie</td>\n",
       "      <td>Documentaries, International Movies</td>\n",
       "    </tr>\n",
       "  </tbody>\n",
       "</table>\n",
       "</div>"
      ],
      "text/plain": [
       "                           Title   \n",
       "1                         #Alive  \\\n",
       "2  #AnneFrank - Parallel Stories   \n",
       "\n",
       "                                         Description Content Type   \n",
       "1  As a grisly virus rampages a city, a lone man ...        Movie  \\\n",
       "2  Through her diary, Anne Frank's story is retol...        Movie   \n",
       "\n",
       "                                           Genres  \n",
       "1  Horror Movies, International Movies, Thrillers  \n",
       "2             Documentaries, International Movies  "
      ]
     },
     "execution_count": 2,
     "metadata": {},
     "output_type": "execute_result"
    }
   ],
   "source": [
    "data = data.dropna()\n",
    "data = data[[\"Title\", \"Description\", \"Content Type\", \"Genres\"]]\n",
    "data.head(2)"
   ]
  },
  {
   "cell_type": "code",
   "execution_count": 3,
   "metadata": {},
   "outputs": [
    {
     "name": "stderr",
     "output_type": "stream",
     "text": [
      "[nltk_data] Downloading package stopwords to\n",
      "[nltk_data]     /home/codespace/nltk_data...\n",
      "[nltk_data]   Package stopwords is already up-to-date!\n"
     ]
    }
   ],
   "source": [
    "import nltk\n",
    "import re\n",
    "nltk.download('stopwords')\n",
    "stemmer = nltk.SnowballStemmer(\"english\")\n",
    "from nltk.corpus import stopwords\n",
    "import string\n",
    "stopword=set(stopwords.words('english'))\n",
    "\n",
    "def clean(text):\n",
    "    text = str(text).lower()\n",
    "    text = re.sub('\\[.*?\\]', '', text)\n",
    "    text = re.sub('https?://\\S+|www\\.\\S+', '', text)\n",
    "    text = re.sub('<.*?>+', '', text)\n",
    "    text = re.sub('[%s]' % re.escape(string.punctuation), '', text)\n",
    "    text = re.sub('\\n', '', text)\n",
    "    text = re.sub('\\w*\\d\\w*', '', text)\n",
    "    text = [word for word in text.split(' ') if word not in stopword]\n",
    "    text=\" \".join(text)\n",
    "    text = [stemmer.stem(word) for word in text.split(' ')]\n",
    "    text=\" \".join(text)\n",
    "    return text\n",
    "data[\"Title\"] = data[\"Title\"].apply(clean)"
   ]
  },
  {
   "cell_type": "code",
   "execution_count": 4,
   "metadata": {},
   "outputs": [
    {
     "data": {
      "text/html": [
       "<div>\n",
       "<style scoped>\n",
       "    .dataframe tbody tr th:only-of-type {\n",
       "        vertical-align: middle;\n",
       "    }\n",
       "\n",
       "    .dataframe tbody tr th {\n",
       "        vertical-align: top;\n",
       "    }\n",
       "\n",
       "    .dataframe thead th {\n",
       "        text-align: right;\n",
       "    }\n",
       "</style>\n",
       "<table border=\"1\" class=\"dataframe\">\n",
       "  <thead>\n",
       "    <tr style=\"text-align: right;\">\n",
       "      <th></th>\n",
       "      <th>Title</th>\n",
       "      <th>Description</th>\n",
       "      <th>Content Type</th>\n",
       "      <th>Genres</th>\n",
       "    </tr>\n",
       "  </thead>\n",
       "  <tbody>\n",
       "    <tr>\n",
       "      <th>1</th>\n",
       "      <td>aliv</td>\n",
       "      <td>As a grisly virus rampages a city, a lone man ...</td>\n",
       "      <td>Movie</td>\n",
       "      <td>Horror Movies, International Movies, Thrillers</td>\n",
       "    </tr>\n",
       "    <tr>\n",
       "      <th>2</th>\n",
       "      <td>annefrank  parallel stori</td>\n",
       "      <td>Through her diary, Anne Frank's story is retol...</td>\n",
       "      <td>Movie</td>\n",
       "      <td>Documentaries, International Movies</td>\n",
       "    </tr>\n",
       "  </tbody>\n",
       "</table>\n",
       "</div>"
      ],
      "text/plain": [
       "                       Title   \n",
       "1                       aliv  \\\n",
       "2  annefrank  parallel stori   \n",
       "\n",
       "                                         Description Content Type   \n",
       "1  As a grisly virus rampages a city, a lone man ...        Movie  \\\n",
       "2  Through her diary, Anne Frank's story is retol...        Movie   \n",
       "\n",
       "                                           Genres  \n",
       "1  Horror Movies, International Movies, Thrillers  \n",
       "2             Documentaries, International Movies  "
      ]
     },
     "execution_count": 4,
     "metadata": {},
     "output_type": "execute_result"
    }
   ],
   "source": [
    "data.head(2)"
   ]
  },
  {
   "cell_type": "code",
   "execution_count": 5,
   "metadata": {},
   "outputs": [],
   "source": [
    "feature = set(data[\"Genres\"])\n"
   ]
  },
  {
   "cell_type": "code",
   "execution_count": 6,
   "metadata": {},
   "outputs": [
    {
     "data": {
      "text/plain": [
       "set"
      ]
     },
     "execution_count": 6,
     "metadata": {},
     "output_type": "execute_result"
    }
   ],
   "source": [
    "type(feature)"
   ]
  },
  {
   "cell_type": "code",
   "execution_count": 7,
   "metadata": {},
   "outputs": [],
   "source": [
    "tfidf = text.TfidfVectorizer(input=feature, stop_words=\"english\")\n"
   ]
  },
  {
   "cell_type": "code",
   "execution_count": 11,
   "metadata": {},
   "outputs": [
    {
     "ename": "InvalidParameterError",
     "evalue": "The 'input' parameter of TfidfVectorizer must be a str among {'filename', 'file', 'content'}. Got {'Comedies, LGBTQ Movies, Thrillers', 'Dramas, Sports Movies', 'Action & Adventure, Dramas, Faith & Spirituality', 'Action & Adventure, Comedies, Sci-Fi & Fantasy', 'Comedies, Cult Movies, Independent Movies', 'Children & Family Movies, Dramas, International Movies', 'Comedies, Dramas, Romantic Movies', 'Horror Movies, Independent Movies', 'Comedies, Horror Movies', 'Documentaries, International Movies, Music & Musicals', 'Comedies, Dramas, Music & Musicals', 'Action & Adventure, International Movies, Romantic Movies', 'Children & Family Movies, Faith & Spirituality, Music & Musicals', 'International Movies, Thrillers', 'Dramas, Independent Movies, International Movies', 'Cult Movies, Dramas, International Movies', 'Children & Family Movies, Comedies, Cult Movies', 'Comedies, Cult Movies', 'International TV Shows, TV Dramas, TV Mysteries', 'Dramas, Independent Movies, Thrillers', 'Anime Series, International TV Shows', 'International Movies, Romantic Movies, Sci-Fi & Fantasy', 'Comedies, Independent Movies, Romantic Movies', 'Action & Adventure, Comedies, Cult Movies', 'Documentaries, Stand-Up Comedy', 'Children & Family Movies, Music & Musicals', 'Comedies, Romantic Movies, Sports Movies', 'Dramas, Independent Movies, Sci-Fi & Fantasy', 'Children & Family Movies, Comedies, Romantic Movies', 'Dramas, International Movies, Sci-Fi & Fantasy', 'Children & Family Movies, Documentaries', 'Action & Adventure, Sci-Fi & Fantasy, Sports Movies', 'Children & Family Movies, Sports Movies', 'Romantic TV Shows, TV Comedies, TV Dramas', 'Comedies, International Movies, LGBTQ Movies', 'Romantic Movies', \"Kids' TV\", 'Comedies', 'Classic Movies, Dramas, Independent Movies', 'Action & Adventure, Children & Family Movies, Sci-Fi & Fantasy', 'International Movies, Romantic Movies, Thrillers', 'Anime Features, Music & Musicals', 'Dramas, Music & Musicals, Romantic Movies', 'Anime Features, Children & Family Movies, International Movies', 'British TV Shows, Classic & Cult TV, TV Comedies', 'Independent Movies, International Movies, Thrillers', 'Horror Movies, LGBTQ Movies, Music & Musicals', 'Children & Family Movies, Dramas, Music & Musicals', 'Comedies, Music & Musicals', 'Action & Adventure, Anime Features, Classic Movies', 'Sci-Fi & Fantasy, Thrillers', 'Dramas, International Movies, Thrillers', 'Action & Adventure, Independent Movies, Sci-Fi & Fantasy', 'Anime Features, International Movies, Sci-Fi & Fantasy', 'International Movies, Romantic Movies', 'Comedies, Dramas, Independent Movies', 'Horror Movies, Independent Movies, Sci-Fi & Fantasy', 'International Movies, Music & Musicals, Thrillers', 'Anime Features, Children & Family Movies', 'Action & Adventure, Comedies, Sports Movies', 'Dramas, International Movies, Sports Movies', 'TV Comedies', 'Dramas, Faith & Spirituality, Independent Movies', 'British TV Shows, Reality TV', 'Horror Movies, Sci-Fi & Fantasy', 'International TV Shows, TV Action & Adventure, TV Comedies', 'Dramas, Horror Movies, Sci-Fi & Fantasy', 'Action & Adventure, Sports Movies', 'Dramas, Independent Movies, Romantic Movies', 'International TV Shows, Romantic TV Shows, TV Comedies', 'Comedies, Documentaries', 'Children & Family Movies, Documentaries, Sports Movies', 'Anime Series, International TV Shows, Spanish-Language TV Shows', 'Horror Movies, International Movies, Thrillers', 'Dramas, Romantic Movies, Thrillers', 'Crime TV Shows, TV Action & Adventure', 'British TV Shows, Docuseries', 'Comedies, Faith & Spirituality, Romantic Movies', 'Comedies, International Movies, Sci-Fi & Fantasy', 'Horror Movies', 'Documentaries, International Movies', 'Comedies, International Movies, Sports Movies', 'Documentaries, Dramas, International Movies', 'Dramas, International Movies, LGBTQ Movies', 'Independent Movies, Thrillers', 'Action & Adventure, Comedies, Independent Movies', 'Action & Adventure, Anime Features, Sci-Fi & Fantasy', 'Horror Movies, Sci-Fi & Fantasy, Thrillers', 'Dramas, Sci-Fi & Fantasy', 'Comedies, International Movies, Music & Musicals', 'Horror Movies, International Movies, Sci-Fi & Fantasy', 'Action & Adventure, Independent Movies', 'TV Horror, TV Mysteries, TV Thrillers', 'Comedies, Independent Movies', 'Children & Family Movies, Dramas', 'Action & Adventure, Classic Movies', 'Crime TV Shows, Romantic TV Shows, TV Dramas', 'Crime TV Shows, TV Action & Adventure, TV Dramas', 'Comedies, Dramas', 'Comedies, Faith & Spirituality, International Movies', 'Action & Adventure, Dramas, International Movies', 'Children & Family Movies, Comedies, LGBTQ Movies', 'Dramas, International Movies, Music & Musicals', 'International TV Shows, Korean TV Shows, TV Action & Adventure', 'Comedies, Independent Movies, Music & Musicals', 'Classic & Cult TV, TV Action & Adventure, TV Horror', 'Horror Movies, Thrillers', 'Music & Musicals, Stand-Up Comedy', 'Comedies, Independent Movies, LGBTQ Movies', 'Dramas, Romantic Movies', 'Documentaries, Sports Movies', 'Action & Adventure, International Movies, Sci-Fi & Fantasy', 'Stand-Up Comedy', 'Anime Features, Romantic Movies', 'Dramas, Independent Movies, Music & Musicals', 'Music & Musicals, Romantic Movies', 'International TV Shows, Stand-Up Comedy & Talk Shows, TV Comedies', 'Comedies, Dramas, International Movies', 'International Movies, Music & Musicals, Romantic Movies', 'Docuseries', 'Action & Adventure, Thrillers', 'Action & Adventure, Dramas, Sports Movies', 'Music & Musicals', 'Children & Family Movies, Dramas, Romantic Movies', 'International TV Shows, Korean TV Shows, Stand-Up Comedy & Talk Shows', 'Classic Movies, Music & Musicals', 'Action & Adventure, Classic Movies, Sci-Fi & Fantasy', 'Horror Movies, Romantic Movies, Sci-Fi & Fantasy', 'Anime Features, International Movies', 'Dramas, Faith & Spirituality', 'Action & Adventure, International Movies, Music & Musicals', 'Action & Adventure, International Movies', 'Dramas, LGBTQ Movies', 'Dramas, Independent Movies, LGBTQ Movies', 'Action & Adventure, Anime Features, Horror Movies', 'Classic Movies, Dramas, International Movies', \"Kids' TV, TV Action & Adventure\", 'Comedies, Cult Movies, Music & Musicals', 'Action & Adventure, International Movies, Sports Movies', 'Classic Movies, Comedies, Cult Movies', 'Cult Movies, Dramas, Music & Musicals', 'Comedies, International Movies', 'Classic Movies, Comedies, Independent Movies', 'Action & Adventure, Dramas, Sci-Fi & Fantasy', \"Anime Series, Kids' TV\", 'British TV Shows, TV Comedies', 'Dramas, Music & Musicals', 'International Movies, Sci-Fi & Fantasy, Thrillers', 'Comedies, LGBTQ Movies, Music & Musicals', 'Comedies, Romantic Movies', 'Thrillers', 'Dramas, Faith & Spirituality, International Movies', 'International TV Shows, Romantic TV Shows, Spanish-Language TV Shows', 'Dramas, Independent Movies, Sports Movies', 'Horror Movies, International Movies, Romantic Movies', 'Anime Features, Music & Musicals, Sci-Fi & Fantasy', 'Action & Adventure, Comedies', 'Children & Family Movies, Comedies, International Movies', 'Action & Adventure, Classic Movies, Dramas', 'British TV Shows, International TV Shows, TV Action & Adventure', 'Action & Adventure, Anime Features, International Movies', 'Children & Family Movies, Classic Movies, Comedies', 'Dramas, Faith & Spirituality, Romantic Movies', 'Action & Adventure, Children & Family Movies, Dramas', 'Children & Family Movies, Dramas, Faith & Spirituality', 'Comedies, Horror Movies, International Movies', 'Classic Movies, Dramas', 'Action & Adventure, Romantic Movies', 'Cult Movies, Horror Movies, Independent Movies', 'Children & Family Movies', 'Documentaries, Music & Musicals', 'Action & Adventure, Dramas, Romantic Movies', 'Dramas, Independent Movies', 'Horror Movies, Independent Movies, International Movies', 'Documentaries, Dramas', 'Action & Adventure, Comedies, Romantic Movies', 'International Movies, Sci-Fi & Fantasy', 'Crime TV Shows, International TV Shows, TV Dramas', 'Action & Adventure, Anime Features, Children & Family Movies', 'Children & Family Movies, Comedies, Sports Movies', 'Children & Family Movies, Dramas, Sports Movies', 'British TV Shows, International TV Shows, TV Dramas', 'Comedies, Horror Movies, Independent Movies', 'Children & Family Movies, Sci-Fi & Fantasy', 'Action & Adventure, Dramas, Independent Movies', 'Comedies, Dramas, Faith & Spirituality', \"British TV Shows, Classic & Cult TV, Kids' TV\", 'Comedies, Sports Movies', 'Comedies, Dramas, LGBTQ Movies', 'Dramas, Thrillers', 'Action & Adventure, Cult Movies, Sci-Fi & Fantasy', 'International TV Shows, TV Dramas, Teen TV Shows', 'Cult Movies, Horror Movies', 'Dramas, International Movies', 'Comedies, Music & Musicals, Romantic Movies', 'Anime Features, International Movies, Romantic Movies', 'British TV Shows, Romantic TV Shows, TV Dramas', 'Documentaries, LGBTQ Movies', 'Dramas, LGBTQ Movies, Romantic Movies', 'Documentaries, Faith & Spirituality', 'Children & Family Movies, Comedies', 'Dramas, Sci-Fi & Fantasy, Thrillers', 'International Movies, Music & Musicals', 'Comedies, International Movies, Thrillers', 'Children & Family Movies, Comedies, Dramas', 'Stand-Up Comedy & Talk Shows, TV Comedies', 'Dramas', 'Children & Family Movies, Dramas, Independent Movies', 'Comedies, International Movies, Romantic Movies', 'Documentaries', 'Action & Adventure, Children & Family Movies, Comedies', 'Dramas, Romantic Movies, Sci-Fi & Fantasy', 'Independent Movies, Sci-Fi & Fantasy, Thrillers', 'Classic Movies, Cult Movies, Dramas', 'Movies', 'TV Action & Adventure, TV Sci-Fi & Fantasy', 'Crime TV Shows, TV Dramas, TV Mysteries', 'Horror Movies, Independent Movies, Thrillers', 'LGBTQ Movies, Thrillers', 'Action & Adventure, Children & Family Movies, Classic Movies', 'Children & Family Movies, Comedies, Sci-Fi & Fantasy', 'Action & Adventure, Cult Movies, International Movies', 'Action & Adventure, Horror Movies', 'Action & Adventure, Horror Movies, Sci-Fi & Fantasy', 'Dramas, Romantic Movies, Sports Movies', 'Children & Family Movies, Comedies, Music & Musicals', 'Action & Adventure, Comedies, Dramas', 'Dramas, International Movies, Romantic Movies', 'Action & Adventure', 'Horror Movies, International Movies', 'Action & Adventure, Sci-Fi & Fantasy', 'Action & Adventure, Classic Movies, Comedies', 'Documentaries, International Movies, Sports Movies', 'Comedies, Independent Movies, International Movies', 'Action & Adventure, Independent Movies, International Movies', 'Action & Adventure, Dramas', 'Reality TV', 'Action & Adventure, Comedies, International Movies', 'Comedies, Cult Movies, Horror Movies', 'Action & Adventure, Classic Movies, Cult Movies'} instead.",
     "output_type": "error",
     "traceback": [
      "\u001b[0;31m---------------------------------------------------------------------------\u001b[0m",
      "\u001b[0;31mInvalidParameterError\u001b[0m                     Traceback (most recent call last)",
      "Cell \u001b[0;32mIn[11], line 1\u001b[0m\n\u001b[0;32m----> 1\u001b[0m tfidf_matrix \u001b[39m=\u001b[39m tfidf\u001b[39m.\u001b[39;49mfit_transform(feature)\n",
      "File \u001b[0;32m~/.local/lib/python3.10/site-packages/sklearn/feature_extraction/text.py:2133\u001b[0m, in \u001b[0;36mTfidfVectorizer.fit_transform\u001b[0;34m(self, raw_documents, y)\u001b[0m\n\u001b[1;32m   2126\u001b[0m \u001b[39mself\u001b[39m\u001b[39m.\u001b[39m_check_params()\n\u001b[1;32m   2127\u001b[0m \u001b[39mself\u001b[39m\u001b[39m.\u001b[39m_tfidf \u001b[39m=\u001b[39m TfidfTransformer(\n\u001b[1;32m   2128\u001b[0m     norm\u001b[39m=\u001b[39m\u001b[39mself\u001b[39m\u001b[39m.\u001b[39mnorm,\n\u001b[1;32m   2129\u001b[0m     use_idf\u001b[39m=\u001b[39m\u001b[39mself\u001b[39m\u001b[39m.\u001b[39muse_idf,\n\u001b[1;32m   2130\u001b[0m     smooth_idf\u001b[39m=\u001b[39m\u001b[39mself\u001b[39m\u001b[39m.\u001b[39msmooth_idf,\n\u001b[1;32m   2131\u001b[0m     sublinear_tf\u001b[39m=\u001b[39m\u001b[39mself\u001b[39m\u001b[39m.\u001b[39msublinear_tf,\n\u001b[1;32m   2132\u001b[0m )\n\u001b[0;32m-> 2133\u001b[0m X \u001b[39m=\u001b[39m \u001b[39msuper\u001b[39;49m()\u001b[39m.\u001b[39;49mfit_transform(raw_documents)\n\u001b[1;32m   2134\u001b[0m \u001b[39mself\u001b[39m\u001b[39m.\u001b[39m_tfidf\u001b[39m.\u001b[39mfit(X)\n\u001b[1;32m   2135\u001b[0m \u001b[39m# X is already a transformed view of raw_documents so\u001b[39;00m\n\u001b[1;32m   2136\u001b[0m \u001b[39m# we set copy to False\u001b[39;00m\n",
      "File \u001b[0;32m~/.local/lib/python3.10/site-packages/sklearn/feature_extraction/text.py:1369\u001b[0m, in \u001b[0;36mCountVectorizer.fit_transform\u001b[0;34m(self, raw_documents, y)\u001b[0m\n\u001b[1;32m   1364\u001b[0m \u001b[39mif\u001b[39;00m \u001b[39misinstance\u001b[39m(raw_documents, \u001b[39mstr\u001b[39m):\n\u001b[1;32m   1365\u001b[0m     \u001b[39mraise\u001b[39;00m \u001b[39mValueError\u001b[39;00m(\n\u001b[1;32m   1366\u001b[0m         \u001b[39m\"\u001b[39m\u001b[39mIterable over raw text documents expected, string object received.\u001b[39m\u001b[39m\"\u001b[39m\n\u001b[1;32m   1367\u001b[0m     )\n\u001b[0;32m-> 1369\u001b[0m \u001b[39mself\u001b[39;49m\u001b[39m.\u001b[39;49m_validate_params()\n\u001b[1;32m   1370\u001b[0m \u001b[39mself\u001b[39m\u001b[39m.\u001b[39m_validate_ngram_range()\n\u001b[1;32m   1371\u001b[0m \u001b[39mself\u001b[39m\u001b[39m.\u001b[39m_warn_for_unused_params()\n",
      "File \u001b[0;32m~/.local/lib/python3.10/site-packages/sklearn/base.py:600\u001b[0m, in \u001b[0;36mBaseEstimator._validate_params\u001b[0;34m(self)\u001b[0m\n\u001b[1;32m    592\u001b[0m \u001b[39mdef\u001b[39;00m \u001b[39m_validate_params\u001b[39m(\u001b[39mself\u001b[39m):\n\u001b[1;32m    593\u001b[0m \u001b[39m    \u001b[39m\u001b[39m\"\"\"Validate types and values of constructor parameters\u001b[39;00m\n\u001b[1;32m    594\u001b[0m \n\u001b[1;32m    595\u001b[0m \u001b[39m    The expected type and values must be defined in the `_parameter_constraints`\u001b[39;00m\n\u001b[0;32m   (...)\u001b[0m\n\u001b[1;32m    598\u001b[0m \u001b[39m    accepted constraints.\u001b[39;00m\n\u001b[1;32m    599\u001b[0m \u001b[39m    \"\"\"\u001b[39;00m\n\u001b[0;32m--> 600\u001b[0m     validate_parameter_constraints(\n\u001b[1;32m    601\u001b[0m         \u001b[39mself\u001b[39;49m\u001b[39m.\u001b[39;49m_parameter_constraints,\n\u001b[1;32m    602\u001b[0m         \u001b[39mself\u001b[39;49m\u001b[39m.\u001b[39;49mget_params(deep\u001b[39m=\u001b[39;49m\u001b[39mFalse\u001b[39;49;00m),\n\u001b[1;32m    603\u001b[0m         caller_name\u001b[39m=\u001b[39;49m\u001b[39mself\u001b[39;49m\u001b[39m.\u001b[39;49m\u001b[39m__class__\u001b[39;49m\u001b[39m.\u001b[39;49m\u001b[39m__name__\u001b[39;49m,\n\u001b[1;32m    604\u001b[0m     )\n",
      "File \u001b[0;32m~/.local/lib/python3.10/site-packages/sklearn/utils/_param_validation.py:97\u001b[0m, in \u001b[0;36mvalidate_parameter_constraints\u001b[0;34m(parameter_constraints, params, caller_name)\u001b[0m\n\u001b[1;32m     91\u001b[0m \u001b[39melse\u001b[39;00m:\n\u001b[1;32m     92\u001b[0m     constraints_str \u001b[39m=\u001b[39m (\n\u001b[1;32m     93\u001b[0m         \u001b[39mf\u001b[39m\u001b[39m\"\u001b[39m\u001b[39m{\u001b[39;00m\u001b[39m'\u001b[39m\u001b[39m, \u001b[39m\u001b[39m'\u001b[39m\u001b[39m.\u001b[39mjoin([\u001b[39mstr\u001b[39m(c)\u001b[39m \u001b[39m\u001b[39mfor\u001b[39;00m\u001b[39m \u001b[39mc\u001b[39m \u001b[39m\u001b[39min\u001b[39;00m\u001b[39m \u001b[39mconstraints[:\u001b[39m-\u001b[39m\u001b[39m1\u001b[39m]])\u001b[39m}\u001b[39;00m\u001b[39m or\u001b[39m\u001b[39m\"\u001b[39m\n\u001b[1;32m     94\u001b[0m         \u001b[39mf\u001b[39m\u001b[39m\"\u001b[39m\u001b[39m \u001b[39m\u001b[39m{\u001b[39;00mconstraints[\u001b[39m-\u001b[39m\u001b[39m1\u001b[39m]\u001b[39m}\u001b[39;00m\u001b[39m\"\u001b[39m\n\u001b[1;32m     95\u001b[0m     )\n\u001b[0;32m---> 97\u001b[0m \u001b[39mraise\u001b[39;00m InvalidParameterError(\n\u001b[1;32m     98\u001b[0m     \u001b[39mf\u001b[39m\u001b[39m\"\u001b[39m\u001b[39mThe \u001b[39m\u001b[39m{\u001b[39;00mparam_name\u001b[39m!r}\u001b[39;00m\u001b[39m parameter of \u001b[39m\u001b[39m{\u001b[39;00mcaller_name\u001b[39m}\u001b[39;00m\u001b[39m must be\u001b[39m\u001b[39m\"\u001b[39m\n\u001b[1;32m     99\u001b[0m     \u001b[39mf\u001b[39m\u001b[39m\"\u001b[39m\u001b[39m \u001b[39m\u001b[39m{\u001b[39;00mconstraints_str\u001b[39m}\u001b[39;00m\u001b[39m. Got \u001b[39m\u001b[39m{\u001b[39;00mparam_val\u001b[39m!r}\u001b[39;00m\u001b[39m instead.\u001b[39m\u001b[39m\"\u001b[39m\n\u001b[1;32m    100\u001b[0m )\n",
      "\u001b[0;31mInvalidParameterError\u001b[0m: The 'input' parameter of TfidfVectorizer must be a str among {'filename', 'file', 'content'}. Got {'Comedies, LGBTQ Movies, Thrillers', 'Dramas, Sports Movies', 'Action & Adventure, Dramas, Faith & Spirituality', 'Action & Adventure, Comedies, Sci-Fi & Fantasy', 'Comedies, Cult Movies, Independent Movies', 'Children & Family Movies, Dramas, International Movies', 'Comedies, Dramas, Romantic Movies', 'Horror Movies, Independent Movies', 'Comedies, Horror Movies', 'Documentaries, International Movies, Music & Musicals', 'Comedies, Dramas, Music & Musicals', 'Action & Adventure, International Movies, Romantic Movies', 'Children & Family Movies, Faith & Spirituality, Music & Musicals', 'International Movies, Thrillers', 'Dramas, Independent Movies, International Movies', 'Cult Movies, Dramas, International Movies', 'Children & Family Movies, Comedies, Cult Movies', 'Comedies, Cult Movies', 'International TV Shows, TV Dramas, TV Mysteries', 'Dramas, Independent Movies, Thrillers', 'Anime Series, International TV Shows', 'International Movies, Romantic Movies, Sci-Fi & Fantasy', 'Comedies, Independent Movies, Romantic Movies', 'Action & Adventure, Comedies, Cult Movies', 'Documentaries, Stand-Up Comedy', 'Children & Family Movies, Music & Musicals', 'Comedies, Romantic Movies, Sports Movies', 'Dramas, Independent Movies, Sci-Fi & Fantasy', 'Children & Family Movies, Comedies, Romantic Movies', 'Dramas, International Movies, Sci-Fi & Fantasy', 'Children & Family Movies, Documentaries', 'Action & Adventure, Sci-Fi & Fantasy, Sports Movies', 'Children & Family Movies, Sports Movies', 'Romantic TV Shows, TV Comedies, TV Dramas', 'Comedies, International Movies, LGBTQ Movies', 'Romantic Movies', \"Kids' TV\", 'Comedies', 'Classic Movies, Dramas, Independent Movies', 'Action & Adventure, Children & Family Movies, Sci-Fi & Fantasy', 'International Movies, Romantic Movies, Thrillers', 'Anime Features, Music & Musicals', 'Dramas, Music & Musicals, Romantic Movies', 'Anime Features, Children & Family Movies, International Movies', 'British TV Shows, Classic & Cult TV, TV Comedies', 'Independent Movies, International Movies, Thrillers', 'Horror Movies, LGBTQ Movies, Music & Musicals', 'Children & Family Movies, Dramas, Music & Musicals', 'Comedies, Music & Musicals', 'Action & Adventure, Anime Features, Classic Movies', 'Sci-Fi & Fantasy, Thrillers', 'Dramas, International Movies, Thrillers', 'Action & Adventure, Independent Movies, Sci-Fi & Fantasy', 'Anime Features, International Movies, Sci-Fi & Fantasy', 'International Movies, Romantic Movies', 'Comedies, Dramas, Independent Movies', 'Horror Movies, Independent Movies, Sci-Fi & Fantasy', 'International Movies, Music & Musicals, Thrillers', 'Anime Features, Children & Family Movies', 'Action & Adventure, Comedies, Sports Movies', 'Dramas, International Movies, Sports Movies', 'TV Comedies', 'Dramas, Faith & Spirituality, Independent Movies', 'British TV Shows, Reality TV', 'Horror Movies, Sci-Fi & Fantasy', 'International TV Shows, TV Action & Adventure, TV Comedies', 'Dramas, Horror Movies, Sci-Fi & Fantasy', 'Action & Adventure, Sports Movies', 'Dramas, Independent Movies, Romantic Movies', 'International TV Shows, Romantic TV Shows, TV Comedies', 'Comedies, Documentaries', 'Children & Family Movies, Documentaries, Sports Movies', 'Anime Series, International TV Shows, Spanish-Language TV Shows', 'Horror Movies, International Movies, Thrillers', 'Dramas, Romantic Movies, Thrillers', 'Crime TV Shows, TV Action & Adventure', 'British TV Shows, Docuseries', 'Comedies, Faith & Spirituality, Romantic Movies', 'Comedies, International Movies, Sci-Fi & Fantasy', 'Horror Movies', 'Documentaries, International Movies', 'Comedies, International Movies, Sports Movies', 'Documentaries, Dramas, International Movies', 'Dramas, International Movies, LGBTQ Movies', 'Independent Movies, Thrillers', 'Action & Adventure, Comedies, Independent Movies', 'Action & Adventure, Anime Features, Sci-Fi & Fantasy', 'Horror Movies, Sci-Fi & Fantasy, Thrillers', 'Dramas, Sci-Fi & Fantasy', 'Comedies, International Movies, Music & Musicals', 'Horror Movies, International Movies, Sci-Fi & Fantasy', 'Action & Adventure, Independent Movies', 'TV Horror, TV Mysteries, TV Thrillers', 'Comedies, Independent Movies', 'Children & Family Movies, Dramas', 'Action & Adventure, Classic Movies', 'Crime TV Shows, Romantic TV Shows, TV Dramas', 'Crime TV Shows, TV Action & Adventure, TV Dramas', 'Comedies, Dramas', 'Comedies, Faith & Spirituality, International Movies', 'Action & Adventure, Dramas, International Movies', 'Children & Family Movies, Comedies, LGBTQ Movies', 'Dramas, International Movies, Music & Musicals', 'International TV Shows, Korean TV Shows, TV Action & Adventure', 'Comedies, Independent Movies, Music & Musicals', 'Classic & Cult TV, TV Action & Adventure, TV Horror', 'Horror Movies, Thrillers', 'Music & Musicals, Stand-Up Comedy', 'Comedies, Independent Movies, LGBTQ Movies', 'Dramas, Romantic Movies', 'Documentaries, Sports Movies', 'Action & Adventure, International Movies, Sci-Fi & Fantasy', 'Stand-Up Comedy', 'Anime Features, Romantic Movies', 'Dramas, Independent Movies, Music & Musicals', 'Music & Musicals, Romantic Movies', 'International TV Shows, Stand-Up Comedy & Talk Shows, TV Comedies', 'Comedies, Dramas, International Movies', 'International Movies, Music & Musicals, Romantic Movies', 'Docuseries', 'Action & Adventure, Thrillers', 'Action & Adventure, Dramas, Sports Movies', 'Music & Musicals', 'Children & Family Movies, Dramas, Romantic Movies', 'International TV Shows, Korean TV Shows, Stand-Up Comedy & Talk Shows', 'Classic Movies, Music & Musicals', 'Action & Adventure, Classic Movies, Sci-Fi & Fantasy', 'Horror Movies, Romantic Movies, Sci-Fi & Fantasy', 'Anime Features, International Movies', 'Dramas, Faith & Spirituality', 'Action & Adventure, International Movies, Music & Musicals', 'Action & Adventure, International Movies', 'Dramas, LGBTQ Movies', 'Dramas, Independent Movies, LGBTQ Movies', 'Action & Adventure, Anime Features, Horror Movies', 'Classic Movies, Dramas, International Movies', \"Kids' TV, TV Action & Adventure\", 'Comedies, Cult Movies, Music & Musicals', 'Action & Adventure, International Movies, Sports Movies', 'Classic Movies, Comedies, Cult Movies', 'Cult Movies, Dramas, Music & Musicals', 'Comedies, International Movies', 'Classic Movies, Comedies, Independent Movies', 'Action & Adventure, Dramas, Sci-Fi & Fantasy', \"Anime Series, Kids' TV\", 'British TV Shows, TV Comedies', 'Dramas, Music & Musicals', 'International Movies, Sci-Fi & Fantasy, Thrillers', 'Comedies, LGBTQ Movies, Music & Musicals', 'Comedies, Romantic Movies', 'Thrillers', 'Dramas, Faith & Spirituality, International Movies', 'International TV Shows, Romantic TV Shows, Spanish-Language TV Shows', 'Dramas, Independent Movies, Sports Movies', 'Horror Movies, International Movies, Romantic Movies', 'Anime Features, Music & Musicals, Sci-Fi & Fantasy', 'Action & Adventure, Comedies', 'Children & Family Movies, Comedies, International Movies', 'Action & Adventure, Classic Movies, Dramas', 'British TV Shows, International TV Shows, TV Action & Adventure', 'Action & Adventure, Anime Features, International Movies', 'Children & Family Movies, Classic Movies, Comedies', 'Dramas, Faith & Spirituality, Romantic Movies', 'Action & Adventure, Children & Family Movies, Dramas', 'Children & Family Movies, Dramas, Faith & Spirituality', 'Comedies, Horror Movies, International Movies', 'Classic Movies, Dramas', 'Action & Adventure, Romantic Movies', 'Cult Movies, Horror Movies, Independent Movies', 'Children & Family Movies', 'Documentaries, Music & Musicals', 'Action & Adventure, Dramas, Romantic Movies', 'Dramas, Independent Movies', 'Horror Movies, Independent Movies, International Movies', 'Documentaries, Dramas', 'Action & Adventure, Comedies, Romantic Movies', 'International Movies, Sci-Fi & Fantasy', 'Crime TV Shows, International TV Shows, TV Dramas', 'Action & Adventure, Anime Features, Children & Family Movies', 'Children & Family Movies, Comedies, Sports Movies', 'Children & Family Movies, Dramas, Sports Movies', 'British TV Shows, International TV Shows, TV Dramas', 'Comedies, Horror Movies, Independent Movies', 'Children & Family Movies, Sci-Fi & Fantasy', 'Action & Adventure, Dramas, Independent Movies', 'Comedies, Dramas, Faith & Spirituality', \"British TV Shows, Classic & Cult TV, Kids' TV\", 'Comedies, Sports Movies', 'Comedies, Dramas, LGBTQ Movies', 'Dramas, Thrillers', 'Action & Adventure, Cult Movies, Sci-Fi & Fantasy', 'International TV Shows, TV Dramas, Teen TV Shows', 'Cult Movies, Horror Movies', 'Dramas, International Movies', 'Comedies, Music & Musicals, Romantic Movies', 'Anime Features, International Movies, Romantic Movies', 'British TV Shows, Romantic TV Shows, TV Dramas', 'Documentaries, LGBTQ Movies', 'Dramas, LGBTQ Movies, Romantic Movies', 'Documentaries, Faith & Spirituality', 'Children & Family Movies, Comedies', 'Dramas, Sci-Fi & Fantasy, Thrillers', 'International Movies, Music & Musicals', 'Comedies, International Movies, Thrillers', 'Children & Family Movies, Comedies, Dramas', 'Stand-Up Comedy & Talk Shows, TV Comedies', 'Dramas', 'Children & Family Movies, Dramas, Independent Movies', 'Comedies, International Movies, Romantic Movies', 'Documentaries', 'Action & Adventure, Children & Family Movies, Comedies', 'Dramas, Romantic Movies, Sci-Fi & Fantasy', 'Independent Movies, Sci-Fi & Fantasy, Thrillers', 'Classic Movies, Cult Movies, Dramas', 'Movies', 'TV Action & Adventure, TV Sci-Fi & Fantasy', 'Crime TV Shows, TV Dramas, TV Mysteries', 'Horror Movies, Independent Movies, Thrillers', 'LGBTQ Movies, Thrillers', 'Action & Adventure, Children & Family Movies, Classic Movies', 'Children & Family Movies, Comedies, Sci-Fi & Fantasy', 'Action & Adventure, Cult Movies, International Movies', 'Action & Adventure, Horror Movies', 'Action & Adventure, Horror Movies, Sci-Fi & Fantasy', 'Dramas, Romantic Movies, Sports Movies', 'Children & Family Movies, Comedies, Music & Musicals', 'Action & Adventure, Comedies, Dramas', 'Dramas, International Movies, Romantic Movies', 'Action & Adventure', 'Horror Movies, International Movies', 'Action & Adventure, Sci-Fi & Fantasy', 'Action & Adventure, Classic Movies, Comedies', 'Documentaries, International Movies, Sports Movies', 'Comedies, Independent Movies, International Movies', 'Action & Adventure, Independent Movies, International Movies', 'Action & Adventure, Dramas', 'Reality TV', 'Action & Adventure, Comedies, International Movies', 'Comedies, Cult Movies, Horror Movies', 'Action & Adventure, Classic Movies, Cult Movies'} instead."
     ]
    }
   ],
   "source": [
    "tfidf_matrix = tfidf.fit_transform(feature)\n"
   ]
  },
  {
   "cell_type": "code",
   "execution_count": null,
   "metadata": {},
   "outputs": [],
   "source": [
    "similarity = cosine_similarity(tfidf_matrix)"
   ]
  }
 ],
 "metadata": {
  "kernelspec": {
   "display_name": "Python 3",
   "language": "python",
   "name": "python3"
  },
  "language_info": {
   "codemirror_mode": {
    "name": "ipython",
    "version": 3
   },
   "file_extension": ".py",
   "mimetype": "text/x-python",
   "name": "python",
   "nbconvert_exporter": "python",
   "pygments_lexer": "ipython3",
   "version": "3.10.4"
  },
  "orig_nbformat": 4
 },
 "nbformat": 4,
 "nbformat_minor": 2
}
